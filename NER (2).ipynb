{
 "cells": [
  {
   "cell_type": "code",
   "execution_count": 1,
   "id": "84a16763-a92d-45ae-b7fb-cffb5c698c8a",
   "metadata": {},
   "outputs": [],
   "source": [
    "import numpy as np\n",
    "import pandas as pd\n",
    "import matplotlib.pyplot as plt\n",
    "import tensorflow as tf\n",
    "import keras"
   ]
  },
  {
   "cell_type": "code",
   "execution_count": 2,
   "id": "397f4178-ff74-4c2a-ac44-a1598eecb916",
   "metadata": {},
   "outputs": [
    {
     "name": "stdout",
     "output_type": "stream",
     "text": [
      "WARNING:tensorflow:From C:\\Users\\satheeskumar\\AppData\\Local\\Temp\\ipykernel_25156\\546616906.py:2: is_gpu_available (from tensorflow.python.framework.test_util) is deprecated and will be removed in a future version.\n",
      "Instructions for updating:\n",
      "Use `tf.config.list_physical_devices('GPU')` instead.\n"
     ]
    }
   ],
   "source": [
    "# Hyperparams if GPU is available\n",
    "if tf.test.is_gpu_available():\n",
    "    BATCH_SIZE = 512  # Number of examples used in each iteration\n",
    "    EPOCHS = 5  # Number of passes through entire dataset\n",
    "    MAX_LEN = 75  # Max length of review (in words)\n",
    "    EMBEDDING = 40  # Dimension of word embedding vector\n",
    "# Hyperparams for CPU training\n",
    "else:\n",
    "    BATCH_SIZE = 32\n",
    "    EPOCHS = 5\n",
    "    MAX_LEN = 75\n",
    "    EMBEDDING = 20"
   ]
  },
  {
   "cell_type": "code",
   "execution_count": 3,
   "id": "8621153a-4c6f-4a50-9dcb-58b59728d22c",
   "metadata": {},
   "outputs": [],
   "source": [
    "dataset = pd.read_csv(\"ner_dataset.csv\", encoding=\"latin1\")"
   ]
  },
  {
   "cell_type": "code",
   "execution_count": 4,
   "id": "28141fa5-8e06-4fc0-bf56-13d91625cc7f",
   "metadata": {},
   "outputs": [
    {
     "data": {
      "text/html": [
       "<div>\n",
       "<style scoped>\n",
       "    .dataframe tbody tr th:only-of-type {\n",
       "        vertical-align: middle;\n",
       "    }\n",
       "\n",
       "    .dataframe tbody tr th {\n",
       "        vertical-align: top;\n",
       "    }\n",
       "\n",
       "    .dataframe thead th {\n",
       "        text-align: right;\n",
       "    }\n",
       "</style>\n",
       "<table border=\"1\" class=\"dataframe\">\n",
       "  <thead>\n",
       "    <tr style=\"text-align: right;\">\n",
       "      <th></th>\n",
       "      <th>Sentence #</th>\n",
       "      <th>Word</th>\n",
       "      <th>POS</th>\n",
       "      <th>Tag</th>\n",
       "    </tr>\n",
       "  </thead>\n",
       "  <tbody>\n",
       "    <tr>\n",
       "      <th>0</th>\n",
       "      <td>Sentence: 1</td>\n",
       "      <td>Thousands</td>\n",
       "      <td>NNS</td>\n",
       "      <td>O</td>\n",
       "    </tr>\n",
       "    <tr>\n",
       "      <th>1</th>\n",
       "      <td>NaN</td>\n",
       "      <td>of</td>\n",
       "      <td>IN</td>\n",
       "      <td>O</td>\n",
       "    </tr>\n",
       "    <tr>\n",
       "      <th>2</th>\n",
       "      <td>NaN</td>\n",
       "      <td>demonstrators</td>\n",
       "      <td>NNS</td>\n",
       "      <td>O</td>\n",
       "    </tr>\n",
       "    <tr>\n",
       "      <th>3</th>\n",
       "      <td>NaN</td>\n",
       "      <td>have</td>\n",
       "      <td>VBP</td>\n",
       "      <td>O</td>\n",
       "    </tr>\n",
       "    <tr>\n",
       "      <th>4</th>\n",
       "      <td>NaN</td>\n",
       "      <td>marched</td>\n",
       "      <td>VBN</td>\n",
       "      <td>O</td>\n",
       "    </tr>\n",
       "  </tbody>\n",
       "</table>\n",
       "</div>"
      ],
      "text/plain": [
       "    Sentence #           Word  POS Tag\n",
       "0  Sentence: 1      Thousands  NNS   O\n",
       "1          NaN             of   IN   O\n",
       "2          NaN  demonstrators  NNS   O\n",
       "3          NaN           have  VBP   O\n",
       "4          NaN        marched  VBN   O"
      ]
     },
     "execution_count": 4,
     "metadata": {},
     "output_type": "execute_result"
    }
   ],
   "source": [
    "dataset.head()"
   ]
  },
  {
   "cell_type": "code",
   "execution_count": 5,
   "id": "661bd007-9264-4401-a7f4-c54445420e41",
   "metadata": {},
   "outputs": [
    {
     "name": "stdout",
     "output_type": "stream",
     "text": [
      "Sentence # : 47959\n",
      "Word : 35177\n",
      "POS : 42\n",
      "Tag : 17\n"
     ]
    }
   ],
   "source": [
    "for i in dataset.columns:\n",
    "    print(i,\":\",dataset[i].nunique())"
   ]
  },
  {
   "cell_type": "code",
   "execution_count": 6,
   "id": "9e5b49c5-7731-4c28-9087-1d674de98f01",
   "metadata": {},
   "outputs": [
    {
     "name": "stdout",
     "output_type": "stream",
     "text": [
      "Sentence # : 1048575\n",
      "Word : 1048575\n",
      "POS : 1048575\n",
      "Tag : 1048575\n"
     ]
    }
   ],
   "source": [
    "for i in dataset.columns:\n",
    "    print(i,\":\",len(dataset[i].values))"
   ]
  },
  {
   "cell_type": "code",
   "execution_count": 7,
   "id": "21c4fa0b-d7e0-412f-b539-4b40eefe5bb0",
   "metadata": {},
   "outputs": [
    {
     "data": {
      "text/plain": [
       "Sentence #    1000616\n",
       "Word               10\n",
       "POS                 0\n",
       "Tag                 0\n",
       "dtype: int64"
      ]
     },
     "execution_count": 7,
     "metadata": {},
     "output_type": "execute_result"
    }
   ],
   "source": [
    "dataset.isnull().sum()"
   ]
  },
  {
   "cell_type": "code",
   "execution_count": 8,
   "id": "c315b0bb-3cde-463c-a044-f1ec82a0e71a",
   "metadata": {},
   "outputs": [
    {
     "data": {
      "text/plain": [
       "array(['Sentence: 1', nan, 'Sentence: 2', ..., 'Sentence: 47957',\n",
       "       'Sentence: 47958', 'Sentence: 47959'], dtype=object)"
      ]
     },
     "execution_count": 8,
     "metadata": {},
     "output_type": "execute_result"
    }
   ],
   "source": [
    "dataset[\"Sentence #\"].unique()"
   ]
  },
  {
   "cell_type": "markdown",
   "id": "1a2d74c4-91cd-432d-9eb9-9bb64a4d1945",
   "metadata": {},
   "source": [
    "We see in column \"Sentence #\" sentence 1 is followed by NaN, so we need to fill the same we whatever the value is in top"
   ]
  },
  {
   "cell_type": "code",
   "execution_count": 9,
   "id": "a8a1712c-7089-4328-b2b9-0eece606b10a",
   "metadata": {},
   "outputs": [
    {
     "name": "stderr",
     "output_type": "stream",
     "text": [
      "C:\\Users\\satheeskumar\\AppData\\Local\\Temp\\ipykernel_25156\\2456240455.py:1: FutureWarning: DataFrame.fillna with 'method' is deprecated and will raise in a future version. Use obj.ffill() or obj.bfill() instead.\n",
      "  dataset = dataset.fillna(method=\"ffill\")\n"
     ]
    }
   ],
   "source": [
    "dataset = dataset.fillna(method=\"ffill\")"
   ]
  },
  {
   "cell_type": "code",
   "execution_count": 10,
   "id": "2f23d746-05d3-4684-84d4-fddd8793d1f7",
   "metadata": {},
   "outputs": [
    {
     "data": {
      "text/html": [
       "<div>\n",
       "<style scoped>\n",
       "    .dataframe tbody tr th:only-of-type {\n",
       "        vertical-align: middle;\n",
       "    }\n",
       "\n",
       "    .dataframe tbody tr th {\n",
       "        vertical-align: top;\n",
       "    }\n",
       "\n",
       "    .dataframe thead th {\n",
       "        text-align: right;\n",
       "    }\n",
       "</style>\n",
       "<table border=\"1\" class=\"dataframe\">\n",
       "  <thead>\n",
       "    <tr style=\"text-align: right;\">\n",
       "      <th></th>\n",
       "      <th>Sentence #</th>\n",
       "      <th>Word</th>\n",
       "      <th>POS</th>\n",
       "      <th>Tag</th>\n",
       "    </tr>\n",
       "  </thead>\n",
       "  <tbody>\n",
       "    <tr>\n",
       "      <th>0</th>\n",
       "      <td>Sentence: 1</td>\n",
       "      <td>Thousands</td>\n",
       "      <td>NNS</td>\n",
       "      <td>O</td>\n",
       "    </tr>\n",
       "    <tr>\n",
       "      <th>1</th>\n",
       "      <td>Sentence: 1</td>\n",
       "      <td>of</td>\n",
       "      <td>IN</td>\n",
       "      <td>O</td>\n",
       "    </tr>\n",
       "    <tr>\n",
       "      <th>2</th>\n",
       "      <td>Sentence: 1</td>\n",
       "      <td>demonstrators</td>\n",
       "      <td>NNS</td>\n",
       "      <td>O</td>\n",
       "    </tr>\n",
       "    <tr>\n",
       "      <th>3</th>\n",
       "      <td>Sentence: 1</td>\n",
       "      <td>have</td>\n",
       "      <td>VBP</td>\n",
       "      <td>O</td>\n",
       "    </tr>\n",
       "    <tr>\n",
       "      <th>4</th>\n",
       "      <td>Sentence: 1</td>\n",
       "      <td>marched</td>\n",
       "      <td>VBN</td>\n",
       "      <td>O</td>\n",
       "    </tr>\n",
       "  </tbody>\n",
       "</table>\n",
       "</div>"
      ],
      "text/plain": [
       "    Sentence #           Word  POS Tag\n",
       "0  Sentence: 1      Thousands  NNS   O\n",
       "1  Sentence: 1             of   IN   O\n",
       "2  Sentence: 1  demonstrators  NNS   O\n",
       "3  Sentence: 1           have  VBP   O\n",
       "4  Sentence: 1        marched  VBN   O"
      ]
     },
     "execution_count": 10,
     "metadata": {},
     "output_type": "execute_result"
    }
   ],
   "source": [
    "dataset.head()"
   ]
  },
  {
   "cell_type": "code",
   "execution_count": 40,
   "id": "b0d53d85-c892-4fb0-9fd1-d55a591abe43",
   "metadata": {},
   "outputs": [
    {
     "data": {
      "text/html": [
       "<div>\n",
       "<style scoped>\n",
       "    .dataframe tbody tr th:only-of-type {\n",
       "        vertical-align: middle;\n",
       "    }\n",
       "\n",
       "    .dataframe tbody tr th {\n",
       "        vertical-align: top;\n",
       "    }\n",
       "\n",
       "    .dataframe thead th {\n",
       "        text-align: right;\n",
       "    }\n",
       "</style>\n",
       "<table border=\"1\" class=\"dataframe\">\n",
       "  <thead>\n",
       "    <tr style=\"text-align: right;\">\n",
       "      <th></th>\n",
       "      <th>Sentence #</th>\n",
       "      <th>Word</th>\n",
       "      <th>POS</th>\n",
       "      <th>Tag</th>\n",
       "    </tr>\n",
       "  </thead>\n",
       "  <tbody>\n",
       "    <tr>\n",
       "      <th>1048570</th>\n",
       "      <td>Sentence: 47959</td>\n",
       "      <td>they</td>\n",
       "      <td>PRP</td>\n",
       "      <td>O</td>\n",
       "    </tr>\n",
       "    <tr>\n",
       "      <th>1048571</th>\n",
       "      <td>Sentence: 47959</td>\n",
       "      <td>responded</td>\n",
       "      <td>VBD</td>\n",
       "      <td>O</td>\n",
       "    </tr>\n",
       "    <tr>\n",
       "      <th>1048572</th>\n",
       "      <td>Sentence: 47959</td>\n",
       "      <td>to</td>\n",
       "      <td>TO</td>\n",
       "      <td>O</td>\n",
       "    </tr>\n",
       "    <tr>\n",
       "      <th>1048573</th>\n",
       "      <td>Sentence: 47959</td>\n",
       "      <td>the</td>\n",
       "      <td>DT</td>\n",
       "      <td>O</td>\n",
       "    </tr>\n",
       "    <tr>\n",
       "      <th>1048574</th>\n",
       "      <td>Sentence: 47959</td>\n",
       "      <td>attack</td>\n",
       "      <td>NN</td>\n",
       "      <td>O</td>\n",
       "    </tr>\n",
       "  </tbody>\n",
       "</table>\n",
       "</div>"
      ],
      "text/plain": [
       "              Sentence #       Word  POS Tag\n",
       "1048570  Sentence: 47959       they  PRP   O\n",
       "1048571  Sentence: 47959  responded  VBD   O\n",
       "1048572  Sentence: 47959         to   TO   O\n",
       "1048573  Sentence: 47959        the   DT   O\n",
       "1048574  Sentence: 47959     attack   NN   O"
      ]
     },
     "execution_count": 40,
     "metadata": {},
     "output_type": "execute_result"
    }
   ],
   "source": [
    "dataset.tail()"
   ]
  },
  {
   "cell_type": "code",
   "execution_count": 57,
   "id": "81ead0af-59b3-438e-bf98-06a81cfcb16b",
   "metadata": {},
   "outputs": [
    {
     "data": {
      "text/html": [
       "<div>\n",
       "<style scoped>\n",
       "    .dataframe tbody tr th:only-of-type {\n",
       "        vertical-align: middle;\n",
       "    }\n",
       "\n",
       "    .dataframe tbody tr th {\n",
       "        vertical-align: top;\n",
       "    }\n",
       "\n",
       "    .dataframe thead th {\n",
       "        text-align: right;\n",
       "    }\n",
       "</style>\n",
       "<table border=\"1\" class=\"dataframe\">\n",
       "  <thead>\n",
       "    <tr style=\"text-align: right;\">\n",
       "      <th></th>\n",
       "      <th>Sentence #</th>\n",
       "      <th>Word</th>\n",
       "      <th>POS</th>\n",
       "      <th>Tag</th>\n",
       "    </tr>\n",
       "  </thead>\n",
       "  <tbody>\n",
       "    <tr>\n",
       "      <th>4854</th>\n",
       "      <td>Sentence: 219</td>\n",
       "      <td>Summer</td>\n",
       "      <td>NNP</td>\n",
       "      <td>I-eve</td>\n",
       "    </tr>\n",
       "    <tr>\n",
       "      <th>4855</th>\n",
       "      <td>Sentence: 219</td>\n",
       "      <td>Olympics</td>\n",
       "      <td>NNPS</td>\n",
       "      <td>I-eve</td>\n",
       "    </tr>\n",
       "    <tr>\n",
       "      <th>5036</th>\n",
       "      <td>Sentence: 227</td>\n",
       "      <td>Olympic</td>\n",
       "      <td>JJ</td>\n",
       "      <td>I-eve</td>\n",
       "    </tr>\n",
       "    <tr>\n",
       "      <th>5171</th>\n",
       "      <td>Sentence: 234</td>\n",
       "      <td>Medusa</td>\n",
       "      <td>NNP</td>\n",
       "      <td>I-eve</td>\n",
       "    </tr>\n",
       "    <tr>\n",
       "      <th>5764</th>\n",
       "      <td>Sentence: 262</td>\n",
       "      <td>War</td>\n",
       "      <td>NNP</td>\n",
       "      <td>I-eve</td>\n",
       "    </tr>\n",
       "    <tr>\n",
       "      <th>...</th>\n",
       "      <td>...</td>\n",
       "      <td>...</td>\n",
       "      <td>...</td>\n",
       "      <td>...</td>\n",
       "    </tr>\n",
       "    <tr>\n",
       "      <th>1027169</th>\n",
       "      <td>Sentence: 46973</td>\n",
       "      <td>Day</td>\n",
       "      <td>NNP</td>\n",
       "      <td>I-eve</td>\n",
       "    </tr>\n",
       "    <tr>\n",
       "      <th>1027180</th>\n",
       "      <td>Sentence: 46974</td>\n",
       "      <td>War</td>\n",
       "      <td>NNP</td>\n",
       "      <td>I-eve</td>\n",
       "    </tr>\n",
       "    <tr>\n",
       "      <th>1027181</th>\n",
       "      <td>Sentence: 46974</td>\n",
       "      <td>I</td>\n",
       "      <td>NNP</td>\n",
       "      <td>I-eve</td>\n",
       "    </tr>\n",
       "    <tr>\n",
       "      <th>1041941</th>\n",
       "      <td>Sentence: 47651</td>\n",
       "      <td>War</td>\n",
       "      <td>NNP</td>\n",
       "      <td>I-eve</td>\n",
       "    </tr>\n",
       "    <tr>\n",
       "      <th>1041942</th>\n",
       "      <td>Sentence: 47651</td>\n",
       "      <td>II</td>\n",
       "      <td>NNP</td>\n",
       "      <td>I-eve</td>\n",
       "    </tr>\n",
       "  </tbody>\n",
       "</table>\n",
       "<p>253 rows × 4 columns</p>\n",
       "</div>"
      ],
      "text/plain": [
       "              Sentence #      Word   POS    Tag\n",
       "4854       Sentence: 219    Summer   NNP  I-eve\n",
       "4855       Sentence: 219  Olympics  NNPS  I-eve\n",
       "5036       Sentence: 227   Olympic    JJ  I-eve\n",
       "5171       Sentence: 234    Medusa   NNP  I-eve\n",
       "5764       Sentence: 262       War   NNP  I-eve\n",
       "...                  ...       ...   ...    ...\n",
       "1027169  Sentence: 46973       Day   NNP  I-eve\n",
       "1027180  Sentence: 46974       War   NNP  I-eve\n",
       "1027181  Sentence: 46974         I   NNP  I-eve\n",
       "1041941  Sentence: 47651       War   NNP  I-eve\n",
       "1041942  Sentence: 47651        II   NNP  I-eve\n",
       "\n",
       "[253 rows x 4 columns]"
      ]
     },
     "execution_count": 57,
     "metadata": {},
     "output_type": "execute_result"
    }
   ],
   "source": [
    "dataset[dataset[\"Tag\"] == 'I-eve']"
   ]
  },
  {
   "cell_type": "code",
   "execution_count": 11,
   "id": "a88dfed8-651c-4de5-8a9b-859d85af512d",
   "metadata": {},
   "outputs": [
    {
     "data": {
      "text/plain": [
       "(1048575, 4)"
      ]
     },
     "execution_count": 11,
     "metadata": {},
     "output_type": "execute_result"
    }
   ],
   "source": [
    "dataset.shape"
   ]
  },
  {
   "cell_type": "code",
   "execution_count": 12,
   "id": "f8989cc7-eab4-459a-9a22-286345e95ffd",
   "metadata": {},
   "outputs": [
    {
     "name": "stdout",
     "output_type": "stream",
     "text": [
      "Tags: ['B-nat', 'I-art', 'B-per', 'B-geo', 'B-eve', 'I-nat', 'O', 'B-org', 'I-geo', 'B-art', 'B-gpe', 'I-org', 'I-per', 'I-gpe', 'B-tim', 'I-tim', 'I-eve']\n"
     ]
    }
   ],
   "source": [
    "tags = list(set(dataset[\"Tag\"].values))\n",
    "print(\"Tags:\", tags)"
   ]
  },
  {
   "cell_type": "code",
   "execution_count": 13,
   "id": "9d248b6a-e042-4d5a-b9d2-ef75a0a5e8b7",
   "metadata": {},
   "outputs": [
    {
     "data": {
      "text/plain": [
       "Tag\n",
       "O        887908\n",
       "B-geo     37644\n",
       "B-tim     20333\n",
       "B-org     20143\n",
       "I-per     17251\n",
       "B-per     16990\n",
       "I-org     16784\n",
       "B-gpe     15870\n",
       "I-geo      7414\n",
       "I-tim      6528\n",
       "B-art       402\n",
       "B-eve       308\n",
       "I-art       297\n",
       "I-eve       253\n",
       "B-nat       201\n",
       "I-gpe       198\n",
       "I-nat        51\n",
       "Name: count, dtype: int64"
      ]
     },
     "execution_count": 13,
     "metadata": {},
     "output_type": "execute_result"
    }
   ],
   "source": [
    "#let's check the frequency of each tag\n",
    "dataset['Tag'].value_counts()"
   ]
  },
  {
   "cell_type": "code",
   "execution_count": 14,
   "id": "64605a51-e7ec-49a3-9aa0-2ec9ad4c0c6b",
   "metadata": {},
   "outputs": [
    {
     "name": "stdout",
     "output_type": "stream",
     "text": [
      "no of unique words in the dataset:  35177\n"
     ]
    }
   ],
   "source": [
    "words = list(set(dataset[\"Word\"].values))\n",
    "n_words = len(words)\n",
    "print(\"no of unique words in the dataset: \",n_words)"
   ]
  },
  {
   "cell_type": "code",
   "execution_count": 15,
   "id": "1b698c35-6042-4026-a104-bae6bb2d3fdd",
   "metadata": {},
   "outputs": [
    {
     "name": "stdout",
     "output_type": "stream",
     "text": [
      "Tags:  ['B-nat', 'I-art', 'B-per', 'B-geo', 'B-eve', 'I-nat', 'O', 'B-org', 'I-geo', 'B-art', 'B-gpe', 'I-org', 'I-per', 'I-gpe', 'B-tim', 'I-tim', 'I-eve']\n"
     ]
    }
   ],
   "source": [
    "tags = list(set(dataset[\"Tag\"].values))\n",
    "print(\"Tags: \", tags)"
   ]
  },
  {
   "cell_type": "code",
   "execution_count": 16,
   "id": "484d5b1d-eb0f-40dd-8fa1-d524ef8f61e1",
   "metadata": {},
   "outputs": [
    {
     "name": "stdout",
     "output_type": "stream",
     "text": [
      "Number of labels:  17\n"
     ]
    }
   ],
   "source": [
    "n_tags = len(dataset.groupby(\"Tag\"))\n",
    "print(\"Number of labels: \",n_tags)"
   ]
  },
  {
   "cell_type": "code",
   "execution_count": 17,
   "id": "9a730d9d-98cd-4096-bb45-222ee2de2f6b",
   "metadata": {},
   "outputs": [
    {
     "name": "stdout",
     "output_type": "stream",
     "text": [
      "This is what a sentence looks like:\n",
      "[('Thousands', 'NNS', 'O'), ('of', 'IN', 'O'), ('demonstrators', 'NNS', 'O'), ('have', 'VBP', 'O'), ('marched', 'VBN', 'O'), ('through', 'IN', 'O'), ('London', 'NNP', 'B-geo'), ('to', 'TO', 'O'), ('protest', 'VB', 'O'), ('the', 'DT', 'O'), ('war', 'NN', 'O'), ('in', 'IN', 'O'), ('Iraq', 'NNP', 'B-geo'), ('and', 'CC', 'O'), ('demand', 'VB', 'O'), ('the', 'DT', 'O'), ('withdrawal', 'NN', 'O'), ('of', 'IN', 'O'), ('British', 'JJ', 'B-gpe'), ('troops', 'NNS', 'O'), ('from', 'IN', 'O'), ('that', 'DT', 'O'), ('country', 'NN', 'O'), ('.', '.', 'O')]\n"
     ]
    },
    {
     "name": "stderr",
     "output_type": "stream",
     "text": [
      "C:\\Users\\satheeskumar\\AppData\\Local\\Temp\\ipykernel_25156\\364474339.py:11: DeprecationWarning: DataFrameGroupBy.apply operated on the grouping columns. This behavior is deprecated, and in a future version of pandas the grouping columns will be excluded from the operation. Either pass `include_groups=False` to exclude the groupings or explicitly select the grouping columns after groupby to silence this warning.\n",
      "  self.grouped = self.data.groupby(\"Sentence #\").apply(agg_funct)\n"
     ]
    }
   ],
   "source": [
    "class SentenceGetter(object):\n",
    "    def __init__(self, dataset):\n",
    "        self.sentence_n = 1\n",
    "        self.data = dataset\n",
    "        self.empty = False\n",
    "        agg_funct = lambda s: [(w,p,t) for w,p,t in zip(s[\"Word\"].values.tolist(),\n",
    "                                    s[\"POS\"].values.tolist(),\n",
    "                                    s[\"Tag\"].values.tolist())\n",
    "                                   ]\n",
    "\n",
    "        self.grouped = self.data.groupby(\"Sentence #\").apply(agg_funct)\n",
    "        self.sentence = [s for s in self.grouped]\n",
    "\n",
    "    def getnext(self):\n",
    "        try:\n",
    "            s = self.grouped[\"Sentence: {}\".format(self.sentence_n)]\n",
    "            self.sentence_n += 1\n",
    "            return s\n",
    "        except:\n",
    "            None\n",
    "        \n",
    "getter = SentenceGetter(dataset)\n",
    "sent = getter.getnext()\n",
    "print('This is what a sentence looks like:')\n",
    "print(sent)"
   ]
  },
  {
   "cell_type": "code",
   "execution_count": 18,
   "id": "abf5c08f-e6c0-4ed9-966b-55709cc0a95a",
   "metadata": {},
   "outputs": [
    {
     "data": {
      "image/png": "[encoded data removed]",
      "text/plain": [
       "<Figure size 640x480 with 1 Axes>"
      ]
     },
     "metadata": {},
     "output_type": "display_data"
    }
   ],
   "source": [
    "# Get all the sentences\n",
    "sentences = getter.sentence\n",
    "# Plot sentence by lenght\n",
    "plt.hist([len(s) for s in sentences], bins=50)\n",
    "plt.title('Token per sentence')\n",
    "plt.xlabel('Len (number of token)')\n",
    "plt.ylabel('# samples')\n",
    "plt.show()"
   ]
  },
  {
   "cell_type": "code",
   "execution_count": 19,
   "id": "bc57e33f-4368-4864-8efe-49822301ea2e",
   "metadata": {},
   "outputs": [
    {
     "name": "stdout",
     "output_type": "stream",
     "text": [
      "The word Obama is identified by the index: 23248\n",
      "The labels B-geo(which defines Geopraphical Enitities) is identified by the index: 4\n"
     ]
    }
   ],
   "source": [
    "import sklearn\n",
    "\n",
    "# Vocabulary Key:word -> Value:token_index\n",
    "# The first 2 entries are reserved for PAD and UNK\n",
    "word2idx = {w: i + 2 for i, w in enumerate(words)}\n",
    "word2idx[\"UNK\"] = 1 # Unknown words\n",
    "word2idx[\"PAD\"] = 0 # Padding\n",
    "\n",
    "# Vocabulary Key:token_index -> Value:word\n",
    "idx2word = {i: w for w, i in word2idx.items()}\n",
    "\n",
    "# Vocabulary Key:Label/Tag -> Value:tag_index\n",
    "# The first entry is reserved for PAD\n",
    "tag2idx = {t: i+1 for i, t in enumerate(tags)}\n",
    "tag2idx[\"PAD\"] = 0\n",
    "\n",
    "# Vocabulary Key:tag_index -> Value:Label/Tag\n",
    "idx2tag = {i: w for w, i in tag2idx.items()}\n",
    "print(\"The word Obama is identified by the index: {}\".format(word2idx[\"Obama\"]))\n",
    "print(\"The labels B-geo(which defines Geopraphical Enitities) is identified by the index: {}\".format(tag2idx[\"B-geo\"]))\n"
   ]
  },
  {
   "cell_type": "code",
   "execution_count": 20,
   "id": "1cf1418b-6b3f-4b5c-8dbd-55d49870d940",
   "metadata": {},
   "outputs": [
    {
     "data": {
      "text/plain": [
       "((43163, 75), (4796, 75), (43163, 75, 18), (4796, 75, 18))"
      ]
     },
     "execution_count": 20,
     "metadata": {},
     "output_type": "execute_result"
    }
   ],
   "source": [
    "from keras.preprocessing.sequence import pad_sequences\n",
    "\n",
    "X = [[word2idx[w[0]] for w in s] for s in sentences]\n",
    "\n",
    "X = pad_sequences(maxlen = MAX_LEN, sequences = X, padding= \"post\", value = word2idx[\"PAD\"])\n",
    "\n",
    "Y = [[tag2idx[w[2]] for w in s] for s in sentences]\n",
    "\n",
    "Y = pad_sequences(maxlen = MAX_LEN, sequences = Y, padding = \"post\", value = tag2idx[\"PAD\"])\n",
    "\n",
    "\n",
    "from keras.utils import to_categorical\n",
    "\n",
    "Y = [to_categorical(i , num_classes=n_tags+1) for i in Y]\n",
    "\n",
    "from sklearn.model_selection import train_test_split\n",
    "x_tr,x_te,y_tr,y_te = train_test_split(X,Y,test_size = 0.1)\n",
    "\n",
    "x_tr, x_temp, y_tr, y_temp = train_test_split(X, Y, test_size=0.2)\n",
    "x_val, x_test, y_val, y_test = train_test_split(x_temp, y_temp, test_size=0.5)\n",
    "\n",
    "\n",
    "x_tr.shape,x_te.shape,np.array(y_tr).shape,np.array(y_te).shape "
   ]
  },
  {
   "cell_type": "code",
   "execution_count": 21,
   "id": "b862e7b5-7e2a-468c-a72b-430b4eb22dd3",
   "metadata": {},
   "outputs": [
    {
     "name": "stdout",
     "output_type": "stream",
     "text": [
      "Raw Sample:\n",
      "  Thousands of demonstrators have marched through London to protest the war in Iraq and demand the withdrawal of British troops from that country .\n",
      "\n",
      " \n",
      "Raw Label:\n",
      "  O O O O O O B-geo O O O O O B-geo O O O O O B-gpe O O O O O\n",
      "\n",
      " \n",
      "After processing, sample:\n",
      " [ 4840 31934  5805 25576 23311  1527 17655 27118 33438 28708 15404 31913\n",
      "   401 17722 15958 28708 33797 31934  8333 14376  4999 14651  4356 27671\n",
      "     0     0     0     0     0     0     0     0     0     0     0     0\n",
      "     0     0     0     0     0     0     0     0     0     0     0     0\n",
      "     0     0     0     0     0     0     0     0     0     0     0     0\n",
      "     0     0     0     0     0     0     0     0     0     0     0     0\n",
      "     0     0     0]\n",
      "\n",
      " \n",
      "After processing, labels:\n",
      " [[0. 0. 0. ... 0. 0. 0.]\n",
      " [0. 0. 0. ... 0. 0. 0.]\n",
      " [0. 0. 0. ... 0. 0. 0.]\n",
      " ...\n",
      " [1. 0. 0. ... 0. 0. 0.]\n",
      " [1. 0. 0. ... 0. 0. 0.]\n",
      " [1. 0. 0. ... 0. 0. 0.]]\n"
     ]
    }
   ],
   "source": [
    "\n",
    "print('Raw Sample:\\n ', ' '.join([w[0] for w in sentences[0]]))\n",
    "print('\\n ' )\n",
    "print('Raw Label:\\n ', ' '.join([w[2] for w in sentences[0]]))\n",
    "print('\\n ' )\n",
    "print('After processing, sample:\\n', X[0])\n",
    "print('\\n ' )\n",
    "print('After processing, labels:\\n', Y[0])"
   ]
  },
  {
   "cell_type": "code",
   "execution_count": 22,
   "id": "774a3885-d26e-428a-9ef2-b10f9c83fd4e",
   "metadata": {},
   "outputs": [],
   "source": [
    "y_tr = np.array(y_tr)\n",
    "y_te = np.array(y_te)"
   ]
  },
  {
   "cell_type": "code",
   "execution_count": 23,
   "id": "40feb6e3-e484-4f76-b300-7c4a6abdec37",
   "metadata": {},
   "outputs": [],
   "source": [
    "#!pip install tensorflow_addons"
   ]
  },
  {
   "cell_type": "code",
   "execution_count": 24,
   "id": "cdd58b8b-df52-43b7-bd8b-834cac39cf1d",
   "metadata": {},
   "outputs": [
    {
     "name": "stderr",
     "output_type": "stream",
     "text": [
      "C:\\Users\\satheeskumar\\apps\\Lib\\site-packages\\tensorflow_addons\\utils\\tfa_eol_msg.py:23: UserWarning: \n",
      "\n",
      "TensorFlow Addons (TFA) has ended development and introduction of new features.\n",
      "TFA has entered a minimal maintenance and release mode until a planned end of life in May 2024.\n",
      "Please modify downstream libraries to take dependencies from other repositories in our TensorFlow community (e.g. Keras, Keras-CV, and Keras-NLP). \n",
      "\n",
      "For more information see: https://github.com/tensorflow/addons/issues/2807 \n",
      "\n",
      "  warnings.warn(\n"
     ]
    },
    {
     "name": "stdout",
     "output_type": "stream",
     "text": [
      "Model: \"model\"\n",
      "_________________________________________________________________\n",
      " Layer (type)                Output Shape              Param #   \n",
      "=================================================================\n",
      " input_1 (InputLayer)        [(None, 75)]              0         \n",
      "                                                                 \n",
      " embedding (Embedding)       (None, 75, 200)           7036000   \n",
      "                                                                 \n",
      " bidirectional (Bidirection  (None, 75, 100)           100400    \n",
      " al)                                                             \n",
      "                                                                 \n",
      " bidirectional_1 (Bidirecti  (None, 75, 100)           60400     \n",
      " onal)                                                           \n",
      "                                                                 \n",
      " time_distributed (TimeDist  (None, 75, 25)            2525      \n",
      " ributed)                                                        \n",
      "                                                                 \n",
      " crf (CRF)                   [(None, 75),              828       \n",
      "                              (None, 75, 18),                    \n",
      "                              (None,),                           \n",
      "                              (18, 18)]                          \n",
      "                                                                 \n",
      "=================================================================\n",
      "Total params: 7200153 (27.47 MB)\n",
      "Trainable params: 7200153 (27.47 MB)\n",
      "Non-trainable params: 0 (0.00 Byte)\n",
      "_________________________________________________________________\n"
     ]
    }
   ],
   "source": [
    "from keras.models import Model\n",
    "from tensorflow.keras.layers import Input \n",
    "from tensorflow_addons.utils.types import FloatTensorLike, TensorLike\n",
    "\n",
    "#lstm\n",
    "from keras.layers import LSTM, Embedding,Dense, TimeDistributed, Dropout, Bidirectional\n",
    "\n",
    "#CRF\n",
    "from tensorflow_addons.layers import CRF\n",
    "\n",
    "#SIGMOID\n",
    "from tensorflow_addons.losses import SigmoidFocalCrossEntropy\n",
    "from tensorflow_addons.optimizers import AdamW\n",
    "\n",
    "def build_model(max_len = 75, input_dim = 35180, embedding_dim = 200):\n",
    "    input = Input(shape=(max_len,))\n",
    "\n",
    "    embeddings = Embedding(input_dim = input_dim,\n",
    "                           output_dim = embedding_dim,\n",
    "                           input_length=max_len,\n",
    "                           mask_zero=True,\n",
    "                          )(input)\n",
    "\n",
    "    output_sequences = Bidirectional(LSTM(units=50, return_sequences = True))(embeddings)\n",
    "\n",
    "    output_sequences = Bidirectional(LSTM(units=50, return_sequences = True))(output_sequences)\n",
    "\n",
    "    dense_out= TimeDistributed(Dense(25, activation = \"relu\"))(output_sequences)\n",
    "\n",
    "    crf = CRF(18, name=\"crf\")\n",
    "    predicted_sequences, potentials, sequence_length,crf_kernel = crf(dense_out)\n",
    "\n",
    "    model = Model(input,potentials)\n",
    "    model.compile(\n",
    "        optimizer = AdamW(weight_decay=0.001),\n",
    "        loss = SigmoidFocalCrossEntropy())\n",
    "\n",
    "    return model\n",
    "model = build_model()\n",
    "\n",
    "#checkpoints\n",
    "save_model = tf.keras.callbacks.ModelCheckpoint(filepath='best_model_weights.h5',\n",
    "                                                   monitor = \"val_loss\",\n",
    "                                                   save_weights_only=True,\n",
    "                                                   save_best_only= True,\n",
    "                                                   verbose =1)\n",
    "\n",
    "es = tf.keras.callbacks.EarlyStopping(monitor = \"val_loss\", verbose = 1, patience =10)\n",
    "\n",
    "callbacks = [save_model,es]\n",
    "model.summary()"
   ]
  },
  {
   "cell_type": "code",
   "execution_count": 25,
   "id": "6cfe6dd2-fa82-494a-8cc2-07c446fc9e87",
   "metadata": {},
   "outputs": [
    {
     "name": "stdout",
     "output_type": "stream",
     "text": [
      "2.13.0\n",
      "0.22.0\n"
     ]
    }
   ],
   "source": [
    "import tensorflow as tf\n",
    "import tensorflow_addons as tfa\n",
    "\n",
    "print(tf.__version__)       # Should be 2.13.0\n",
    "print(tfa.__version__)      # Should be 0.22.0\n"
   ]
  },
  {
   "cell_type": "code",
   "execution_count": 28,
   "id": "5442d3f3-090f-4d82-a913-ad35b4eeee7c",
   "metadata": {},
   "outputs": [
    {
     "name": "stdout",
     "output_type": "stream",
     "text": [
      "1349/1349 [==============================] - 306s 227ms/step - loss: 0.0150 - val_loss: 0.0147\n"
     ]
    }
   ],
   "source": [
    "history = model.fit(x_tr, y_tr, validation_data = (x_te, y_te), shuffle = True)"
   ]
  },
  {
   "cell_type": "code",
   "execution_count": 35,
   "id": "70d8c1c4-a695-43ca-95c0-5c8b4d7a9631",
   "metadata": {},
   "outputs": [],
   "source": [
    "from tensorflow.keras.preprocessing.sequence import pad_sequences\n",
    "import numpy as np\n",
    "\n",
    "def predict_ner_manual(sentence, word2idx, idx2tag, model, max_len=75):\n",
    "    # Step 1: Tokenize the sentence (just word split)\n",
    "    tokens = sentence.split()\n",
    "\n",
    "    # Step 2: Convert to word IDs\n",
    "    input_ids = [word2idx.get(w, word2idx.get('O', 1)) for w in tokens]  # use 'O' or unknown token index\n",
    "\n",
    "    # Step 3: Pad the sequence\n",
    "    input_ids_padded = pad_sequences([input_ids], maxlen=max_len, padding='post')\n",
    "\n",
    "    # Step 4: Predict\n",
    "    pred = model.predict(input_ids_padded)\n",
    "    pred_indices = np.argmax(pred, axis=-1)[0]\n",
    "\n",
    "    # Step 5: Convert prediction indices back to tags\n",
    "    predicted_tags = [idx2tag[idx] for idx in pred_indices[:len(tokens)]]\n",
    "\n",
    "    # Step 6: Display\n",
    "    return list(zip(tokens, predicted_tags))\n"
   ]
  },
  {
   "cell_type": "code",
   "execution_count": null,
   "id": "204200bd-7f7e-4995-a503-168b2086e9fa",
   "metadata": {},
   "outputs": [],
   "source": []
  },
  {
   "cell_type": "code",
   "execution_count": 62,
   "id": "742b6d3b-37ef-45aa-9592-a3221beb01a4",
   "metadata": {},
   "outputs": [
    {
     "name": "stdout",
     "output_type": "stream",
     "text": [
      "1/1 [==============================] - 0s 52ms/step\n",
      "The --> O\n",
      "International --> B-org\n",
      "Atomic --> I-org\n",
      "Energy --> I-org\n",
      "Agency --> I-org\n",
      "IAEA --> I-org\n",
      "promotes --> O\n",
      "the --> O\n",
      "secure, --> O\n",
      "and --> O\n",
      "peaceful --> O\n",
      "use --> O\n",
      "of --> O\n",
      "nuclear --> O\n",
      "energy --> O\n",
      "around --> O\n",
      "the --> O\n",
      "world. --> O\n",
      "is --> O\n",
      "a --> O\n",
      "part --> O\n",
      "of --> O\n",
      "the --> O\n",
      "United --> B-geo\n",
      "Nations --> I-org\n",
      "UN --> I-org\n",
      "system --> O\n"
     ]
    }
   ],
   "source": [
    "sentence = \"The International Atomic Energy Agency IAEA promotes the secure, and peaceful use of nuclear energy around the world. is a part of the United Nations UN system\"\n",
    "\n",
    "result = predict_ner_manual(sentence, word2idx, idx2tag, model, max_len=75)\n",
    "\n",
    "for word, tag in result:\n",
    "    print(f\"{word} --> {tag}\")\n",
    "\n"
   ]
  },
  {
   "cell_type": "code",
   "execution_count": null,
   "id": "6d2b16b2-cfc0-45f6-9771-b32badfa941a",
   "metadata": {},
   "outputs": [],
   "source": []
  }
 ],
 "metadata": {
  "kernelspec": {
   "display_name": "Python 3 (ipykernel)",
   "language": "python",
   "name": "python3"
  },
  "language_info": {
   "codemirror_mode": {
    "name": "ipython",
    "version": 3
   },
   "file_extension": ".py",
   "mimetype": "text/x-python",
   "name": "python",
   "nbconvert_exporter": "python",
   "pygments_lexer": "ipython3",
   "version": "3.11.7"
  }
 },
 "nbformat": 4,
 "nbformat_minor": 5
}
